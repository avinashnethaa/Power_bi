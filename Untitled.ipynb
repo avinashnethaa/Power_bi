{
 "cells": [
  {
   "cell_type": "code",
   "execution_count": 1,
   "id": "a8713f85",
   "metadata": {},
   "outputs": [],
   "source": [
    "import os"
   ]
  },
  {
   "cell_type": "code",
   "execution_count": 9,
   "id": "d457acd3",
   "metadata": {},
   "outputs": [],
   "source": [
    "path = r\"D:\\Upgrade\""
   ]
  },
  {
   "cell_type": "code",
   "execution_count": 12,
   "id": "703db58d",
   "metadata": {},
   "outputs": [
    {
     "data": {
      "text/plain": [
       "['12th Aug 1230 Python MongoDB Operation',\n",
       " 'Cheatsheet',\n",
       " 'Custom material',\n",
       " 'Data sets',\n",
       " 'Excel',\n",
       " 'Group studies',\n",
       " 'Hometask',\n",
       " 'ILT',\n",
       " 'Krishn naik',\n",
       " 'Machine Learning',\n",
       " 'MongoDB',\n",
       " 'New folder',\n",
       " 'pdfs',\n",
       " 'Practice',\n",
       " 'Prism doubt.docx',\n",
       " 'Python Programming',\n",
       " 'Python Regex and Others',\n",
       " 'Queries',\n",
       " 'SQL',\n",
       " 'Statistics and Probability',\n",
       " 'Tableau crack key.JPG',\n",
       " 'Tablue',\n",
       " 'Zip files']"
      ]
     },
     "execution_count": 12,
     "metadata": {},
     "output_type": "execute_result"
    }
   ],
   "source": [
    "os.listdir()"
   ]
  },
  {
   "cell_type": "code",
   "execution_count": 15,
   "id": "13dd1c13",
   "metadata": {},
   "outputs": [],
   "source": [
    "db = r\"D:\\Upgrade\\Krishn naik\\Zomatodataset.zip\""
   ]
  },
  {
   "cell_type": "code",
   "execution_count": 14,
   "id": "ff7871ae",
   "metadata": {},
   "outputs": [
    {
     "data": {
      "text/plain": [
       "'D:\\\\Upgrade\\\\Krishn naik\\\\'"
      ]
     },
     "execution_count": 14,
     "metadata": {},
     "output_type": "execute_result"
    }
   ],
   "source": [
    "db"
   ]
  },
  {
   "cell_type": "code",
   "execution_count": null,
   "id": "339dff98",
   "metadata": {},
   "outputs": [],
   "source": []
  }
 ],
 "metadata": {
  "kernelspec": {
   "display_name": "Python 3 (ipykernel)",
   "language": "python",
   "name": "python3"
  },
  "language_info": {
   "codemirror_mode": {
    "name": "ipython",
    "version": 3
   },
   "file_extension": ".py",
   "mimetype": "text/x-python",
   "name": "python",
   "nbconvert_exporter": "python",
   "pygments_lexer": "ipython3",
   "version": "3.10.9"
  }
 },
 "nbformat": 4,
 "nbformat_minor": 5
}
